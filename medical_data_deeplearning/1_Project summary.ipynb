{
 "cells": [
  {
   "cell_type": "markdown",
   "metadata": {},
   "source": [
    "심장병 예측 프로그램 "
   ]
  },
  {
   "cell_type": "markdown",
   "metadata": {},
   "source": [
    "주제 선정 동기"
   ]
  },
  {
   "cell_type": "markdown",
   "metadata": {},
   "source": [
    "AI 분야와 결합되는 분야 중 헬스케어 분야도 매우 중요하게 작용한다고 배웠다. 이에, 수업 시간에 배운 당뇨병 예측을 보고 다른 질환에서도 적용될 수 있는가에 대해 궁금하여 프로젝트를 진행하게 됐다. 데이터를 찾던 중 Hungarian Institute of Cardiology, University Hospital, Zurich, Switzerland에서 제공한 의료 데이터를 받아 프로젝트를 원활하게 진행할 수 있었다."
   ]
  },
  {
   "cell_type": "markdown",
   "metadata": {},
   "source": [
    "과제 수행 후 느낀점"
   ]
  },
  {
   "cell_type": "markdown",
   "metadata": {},
   "source": [
    "딥러닝을 진행하면서, 강의 시간에 언급한 \"블랙박스를 극복하는 것이 중요하다\"라는 말이 불현듯 떠올랐습니다. 케라스를 사용하면 딥러닝 과정을 이해하지 못해 기존보다 더 나은 모델을 만들기 어렵다는 것을 느꼈습니다. 이에, 딥러닝 과정속에서 이해가 안되는 과정에 대한 이론을 코딩 과정에서 수십번을 반복하며 돌아봤습니다. 결국에는 딥러닝 과정을 더 심도있게 이해할 수 있고, 결과물을 제출할 수 있었던 것 같습니다. \n",
    "\n",
    "딥러닝 결과가 의도대로 진행되는 것이 어렵다는 것을 느꼈다. 예제를 참고하여 진행했는데 막히는 부분이 굉장히 많아 구글링을 통해 해결하는 과정이 쉬운 과정은 아니였다. 또한, 그래프도 예제처럼 이쁘게 출력되는 것도 아니였다. 이에, 데이터를 잘 가공하고 가중치와 바이어스를 잘 설정하는 과정(레이어를 쌓아가는 과정)을 잘 수행해야한다는 것을 느꼈다. "
   ]
  }
 ],
 "metadata": {
  "kernelspec": {
   "display_name": "Python 3",
   "language": "python",
   "name": "python3"
  },
  "language_info": {
   "codemirror_mode": {
    "name": "ipython",
    "version": 3
   },
   "file_extension": ".py",
   "mimetype": "text/x-python",
   "name": "python",
   "nbconvert_exporter": "python",
   "pygments_lexer": "ipython3",
   "version": "3.8.3"
  }
 },
 "nbformat": 4,
 "nbformat_minor": 4
}
