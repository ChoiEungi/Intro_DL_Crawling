{
 "cells": [
  {
   "cell_type": "markdown",
   "metadata": {},
   "source": [
    "Step1 머신러닝을 위한 모듈을 불러옴."
   ]
  },
  {
   "cell_type": "code",
   "execution_count": 1,
   "metadata": {},
   "outputs": [],
   "source": [
    "# 딥러닝을 구동하는 데 필요한 케라스 함수를 불러옵니다.\n",
    "from tensorflow.keras.models import Sequential\n",
    "from tensorflow.keras.layers import Dense\n",
    "from sklearn.preprocessing import LabelEncoder\n",
    "from keras.models import load_model\n",
    "\n",
    "\n",
    "\n",
    "from sklearn.model_selection import train_test_split \n",
    "\n",
    "# 필요한 라이브러리를 불러옵니다.\n",
    "import pandas as pd\n",
    "import numpy\n",
    "import tensorflow as tf\n",
    "\n",
    "# 실행할 때마다 같은 결과를 출력하기 위해 설정하는 부분\n",
    "seed=0\n",
    "numpy.random.seed(3)\n",
    "tf.random.set_seed(3)"
   ]
  },
  {
   "cell_type": "markdown",
   "metadata": {},
   "source": [
    "Step2 딥러닝할 데이터를 불러오기"
   ]
  },
  {
   "cell_type": "code",
   "execution_count": 2,
   "metadata": {},
   "outputs": [
    {
     "name": "stdout",
     "output_type": "stream",
     "text": [
      "     0   1   2    3    4   5   6    7   8    9   10  11  12  13\n",
      "1    63   1   3  145  233   1   0  150   0  2.3   0   0   1   1\n",
      "2    37   1   2  130  250   0   1  187   0  3.5   0   0   2   1\n",
      "3    41   0   1  130  204   0   0  172   0  1.4   2   0   2   1\n",
      "4    56   1   1  120  236   0   1  178   0  0.8   2   0   2   1\n",
      "5    57   0   0  120  354   0   1  163   1  0.6   2   0   2   1\n",
      "..   ..  ..  ..  ...  ...  ..  ..  ...  ..  ...  ..  ..  ..  ..\n",
      "299  57   0   0  140  241   0   1  123   1  0.2   1   0   3   0\n",
      "300  45   1   3  110  264   0   1  132   0  1.2   1   0   3   0\n",
      "301  68   1   0  144  193   1   1  141   0  3.4   1   2   3   0\n",
      "302  57   1   0  130  131   0   1  115   1  1.2   1   1   3   0\n",
      "303  57   0   1  130  236   0   0  174   0  0.0   1   1   2   0\n",
      "\n",
      "[303 rows x 14 columns]\n"
     ]
    }
   ],
   "source": [
    "#csv파일에서 문자열이 있어 읽기 어려움. --> pandas에서 문자열을 제거 후 numpy로 변환\n",
    "df = pd.read_csv('C:/ai/dataset/heart.csv',header=None)\n",
    "df = df.drop(0,0)\n",
    "df= df.apply(pd.to_numeric,errors='coerce').fillna(0)\n",
    "print(df)\n",
    "\n",
    "#pandas를 numpy로 변환\n",
    "dataset=df.values\n",
    "\n",
    "X = dataset[:,0:13]\n",
    "Y = dataset[:,13]"
   ]
  },
  {
   "cell_type": "code",
   "execution_count": 3,
   "metadata": {},
   "outputs": [
    {
     "data": {
      "text/plain": [
       "0       int64\n",
       "1       int64\n",
       "2       int64\n",
       "3       int64\n",
       "4       int64\n",
       "5       int64\n",
       "6       int64\n",
       "7       int64\n",
       "8       int64\n",
       "9     float64\n",
       "10      int64\n",
       "11      int64\n",
       "12      int64\n",
       "13      int64\n",
       "dtype: object"
      ]
     },
     "execution_count": 3,
     "metadata": {},
     "output_type": "execute_result"
    }
   ],
   "source": [
    "df.dtypes\n"
   ]
  },
  {
   "cell_type": "markdown",
   "metadata": {},
   "source": [
    "STEP 3 학습 데이터 80 %, 테스트 데이터셋 20% 로 설정하기"
   ]
  },
  {
   "cell_type": "code",
   "execution_count": 4,
   "metadata": {},
   "outputs": [],
   "source": [
    "X_train, X_test, Y_train, Y_test = train_test_split(X, Y, test_size=0.2, random_state=seed)"
   ]
  },
  {
   "cell_type": "code",
   "execution_count": 5,
   "metadata": {},
   "outputs": [
    {
     "name": "stdout",
     "output_type": "stream",
     "text": [
      "학습 데이터 개수 : 242  ,  테스트 데이터 개수 61  \n"
     ]
    }
   ],
   "source": [
    "print( \"학습 데이터 개수 : %d  ,  테스트 데이터 개수 %d  \"  %(len(X_train), len(X_test)))\n"
   ]
  },
  {
   "cell_type": "markdown",
   "metadata": {},
   "source": [
    "Step 4 모델 설정하기"
   ]
  },
  {
   "cell_type": "code",
   "execution_count": 6,
   "metadata": {},
   "outputs": [],
   "source": [
    "# 모델을 설정합니다.\n",
    "model = Sequential()\n",
    "model.add(Dense(25, kernel_initializer = 'uniform', input_dim=13, activation='relu'))\n",
    "model.add(Dense(15, kernel_initializer = 'uniform', activation='relu'))\n",
    "model.add(Dense(1, kernel_initializer = 'uniform', activation='sigmoid'))\n",
    "\n",
    "# 모델을 컴파일합니다.\n",
    "model.compile(loss='binary_crossentropy', optimizer='adam',  metrics=['accuracy'])"
   ]
  },
  {
   "cell_type": "code",
   "execution_count": 7,
   "metadata": {},
   "outputs": [
    {
     "name": "stdout",
     "output_type": "stream",
     "text": [
      "Evaluate with test dataset : Loss = 0.6943\n",
      "Evaluate with test dataset : Accuracy = 0.5246\n"
     ]
    }
   ],
   "source": [
    "a,b = model.evaluate(x=X_test, y=Y_test, verbose=0) # 63개의 테스트 데이터셋 결과 \n",
    "print(\"Evaluate with test dataset : Loss = {:.4f}\".format(a))      # 테스트 데이터셋의 loss \n",
    "print(\"Evaluate with test dataset : Accuracy = {:.4f}\".format(b))  # 테스트 데이터셋의 accuracy"
   ]
  },
  {
   "cell_type": "code",
   "execution_count": 8,
   "metadata": {},
   "outputs": [
    {
     "name": "stdout",
     "output_type": "stream",
     "text": [
      "저장할 모델의 이름을 저장하시오(예:heart_model2.h5): heart_model2.h5\n"
     ]
    }
   ],
   "source": [
    "# 모델 저장 이름 \n",
    "model_name = input(\"저장할 모델의 이름을 저장하시오(예:heart_model2.h5): \")\n",
    "model.save(model_name)"
   ]
  }
 ],
 "metadata": {
  "kernelspec": {
   "display_name": "Python 3",
   "language": "python",
   "name": "python3"
  },
  "language_info": {
   "codemirror_mode": {
    "name": "ipython",
    "version": 3
   },
   "file_extension": ".py",
   "mimetype": "text/x-python",
   "name": "python",
   "nbconvert_exporter": "python",
   "pygments_lexer": "ipython3",
   "version": "3.8.3"
  }
 },
 "nbformat": 4,
 "nbformat_minor": 4
}
