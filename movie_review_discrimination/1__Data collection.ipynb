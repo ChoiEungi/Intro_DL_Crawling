{
 "cells": [
  {
   "cell_type": "markdown",
   "metadata": {},
   "source": [
    "# 검증 데이터 셋으로 활용할 네이버 영화 리뷰 크롤링 하기"
   ]
  },
  {
   "cell_type": "markdown",
   "metadata": {},
   "source": [
    "Step 1 필요한 모듈로 부터 필요한 함수 임포트하기 및 파일명 설정"
   ]
  },
  {
   "cell_type": "code",
   "execution_count": 1,
   "metadata": {},
   "outputs": [],
   "source": [
    "from bs4 import BeautifulSoup\n",
    "from selenium import webdriver\n",
    "from selenium.webdriver.common.keys import Keys\n",
    "\n",
    "from selenium.webdriver.chrome.options import Options\n",
    "\n",
    "import datetime #시간 연산 라이브러리 \n",
    "import time\n",
    "import sys        #system 설정을 변경하기 위해 필요\n",
    "import os\n",
    "import requests\n",
    "import numpy           \n",
    "import pandas  as pd \n",
    "import urllib.request\n",
    "import urllib.parse"
   ]
  },
  {
   "cell_type": "code",
   "execution_count": 2,
   "metadata": {
    "scrolled": true
   },
   "outputs": [
    {
     "name": "stdout",
     "output_type": "stream",
     "text": [
      "1.검색할 영화 제목을 입력하세요: 반도\n"
     ]
    }
   ],
   "source": [
    "txt= input(\"1.검색할 영화 제목을 입력하세요: \")\n",
    "query_txt=(\"영화 \"+txt+\" 평점\")"
   ]
  },
  {
   "cell_type": "code",
   "execution_count": 3,
   "metadata": {},
   "outputs": [
    {
     "name": "stdout",
     "output_type": "stream",
     "text": [
      "2.txt형태로 저장할 파일명을 확장자 포함해서 쓰세요:(예: valid_data.txt) :a1.txt\n",
      "3.csv 형태로 저장할 파일명을 확장자 포함해서 쓰세요:(예: valid_data.csv) :a1.csv\n",
      "4.xlsx 형태로 저장할 파일명을 확장자 포함해서 쓰세요:(예: valid_data.xlsx) :a1.xlsx\n"
     ]
    }
   ],
   "source": [
    "f_name = input('2.txt형태로 저장할 파일명을 확장자 포함해서 쓰세요:(예: valid_data.txt) :')\n",
    "fc_name = input('3.csv 형태로 저장할 파일명을 확장자 포함해서 쓰세요:(예: valid_data.csv) :')\n",
    "fx_name = input('4.xlsx 형태로 저장할 파일명을 확장자 포함해서 쓰세요:(예: valid_data.xlsx) :')"
   ]
  },
  {
   "cell_type": "markdown",
   "metadata": {},
   "source": [
    "Step 2 크롬 드라이버로 웹 브라우저 실행"
   ]
  },
  {
   "cell_type": "code",
   "execution_count": 4,
   "metadata": {},
   "outputs": [],
   "source": [
    "options = Options()\n",
    "options.binary_location = \"C:\\\\Program Files\\\\Google\\\\Chrome\\\\Application\\\\chrome.exe\"\n",
    "driver = webdriver.Chrome(options = options, executable_path=r'c:/Temp/chromedriver_240/chromedriver.exe')\n",
    "\n",
    "driver.get('https:/www.naver.com/')"
   ]
  },
  {
   "cell_type": "code",
   "execution_count": 5,
   "metadata": {},
   "outputs": [],
   "source": [
    "element = driver.find_element_by_id(\"query\")\n",
    "element.send_keys(query_txt)\n",
    "time.sleep(1)\n",
    "driver.find_element_by_class_name(\"ico_search_submit\").click() \n",
    "#검색어를 넣어 검색을 진행\n"
   ]
  },
  {
   "cell_type": "markdown",
   "metadata": {},
   "source": [
    "4. 영화 리뷰 데이터 수집 "
   ]
  },
  {
   "cell_type": "code",
   "execution_count": 11,
   "metadata": {},
   "outputs": [
    {
     "name": "stdout",
     "output_type": "stream",
     "text": [
      "2탄기대 액션다소뷰족 \n",
      "부산행 않보고 봤습니다. 별로 입니다. 진짜...액션도 평범합니다. \n",
      "한국에서 바이러스가 퍼졌다는 것은우리나라에서 만든 바이러스라는 것.하루만에 한국이 바이러스에 정복당함.근데 솔직히 타국에서 병력 써서,한국정복하면되는데....영화에서 봤듯이 아무도 그렇지 못하고 있음그만큼 한국바이러스가 무섭다는 것.허접한 내용이라고 생각하겠지만,...\n",
      "재밋어요재밋어요재밋어요 \n",
      " \n",
      "별로 추천하지 않아요.. ㅠㅠ \n",
      "재미잇엇어요 ㅎㅎ감동적이예요 \n",
      "부산행보다는 스토리가 떨어졌으나 운전하는 영상이나 좀비 분장은 최고인 것 같아요~ 그래도 나름 재미 있게 보았습니다 \n",
      "나만 재미이썻나.. 난 재미있게 봄 \n",
      "살아있다보다 100배는 재미있게 봤습니다. \n",
      "<부산행>의 속편이라고 하지만, 이야기와 액션의 결은 많이 다르다. 전작이 ‘달리는 기차’라는 한정된 공간에서 벌이는 사투라면, <반도>는 이미 좀비로 뒤덮인 ‘폐허 대한민국’이 배경이다. 전작에선 마동석의 완력이 액션의 핵심이었다면, 이번엔 고난도 카 체이싱과 총기 액션이 있다. 좀비 캐릭터들은 이야기의 중심에서 벗어나 배경으로 작용하고, 여기에 연상호 감독 특유의 디스토피아적 세계관이 좀 더 두드러지게 결합된다. <부산행>에서 이어지는 장르적 쾌감은 여전하지만, 그 날카로움은 조금 무뎌진 느낌이 있다.\n",
      "포스트 아포칼립스에 대한 시각적 경험, 실감 나는 좀비의 위협, 다양한 총기로 꾸민 색다른 액션, 몸을 반응하게 하는 화려한 카체이싱. 오락 영화로서 충분히 매력적이다. 연상호 감독 특유의 비판적 세계관이 적극적으로 드러나지는 않았지만, 재난은 소재일 뿐 결국 사람과 사람 사이의 이야기를 강조해 주제의 진폭을 높인 점도 좋다. 전반부 빈틈없는 몰입감에 비해 이야기를 연결하는 매듭이 헐거운 후반부는 아쉽다. 액션물에서 언제나 진가를 발휘하는 강동원과 이정현, 이레, 이예원까지 독창적이면서 주도적인 여성 캐릭터가 빛난다. 자신의 존재를 확실하게 각인 시켜 두고두고 영화와 함께 소환될 구교환의 발견은 덤이다.\n",
      "전작 <부산행>의 쾌감이 질주와 돌파로부터 나왔다면, <반도>는 닮은 듯 다르다. 디스토피아의 특정 부분이 아닌 전체 풍경을 조망하는 방식은 인물 개개인의 사연보다 공간의 분위기, 그곳을 지배하는 질서에 더 집중하게 만든다. 감독 연상호의 재능은 지옥도를 구현할 때 한층 설득력을 얻는다. 전반적으로 고르게 좋다기보다 몇몇 장면들이 발휘하는 순간적 파괴력으로 극 전체가 지탱되는 듯한 느낌은 아쉬움으로 남는다. 생존을 위해 힘껏 달리는 여자들, 인간성이 거세된 631부대의 묘사들은 흥미롭다.\n",
      "좀비 바이러스 발생 후 4년. 반도는 우리가 누리고 있는 문명이 얼마나 연약한지 야만은 또 얼마나 빠르게 자리잡는지 증명하는 땅이 된다. 인간이길 포기한 이들과 그럼에도 불구하고 아이들을 지키려는 생존자들의 사투는 인간을 인간답게 하는 것은 무엇인지 묻는다. 폐허가 된 서울 곳곳과 인천항의 모습은 좀비 아포칼립스를 구현하기에 충분하고, 좀비의 특성을 이용한 카체이싱은 영화의 야심을 효과적으로 대표한다.\n",
      "한국에선 변방에 머물고 있던 좀비 콘텐츠를 중심부로 끌어올린 <부산행>의 속편인 만큼, <부산행>과의 비교는 불가피할 것이다. 일단 ‘좀비vs인간’ 구도보다, ‘인간vs인간’에 더 주목하는 과정에서 좀비의 존재감은 많이 희석됐다. 그 빈자리를 액션 블록버스터 느낌으로 채웠는데, 총격전이나 카체이싱 자체는 새롭지 않지만 우리에게 익숙한 공간이 아포칼립스 무대로 활용되면서 일견 신선하다는 인상을 안기기도 한다. 차가 좀비 떼를 청소하듯 쓸어내는 장면처럼 연상호의 만화적 상상력이 실사로 흥미롭게 도출된 이미지들도 있다. 이번에도 가장 브레이크가 걸리는 건 ‘신파’다. <부산행>의 신파가 관객의 눈물을 겨냥하는데, 어느 정도 효과를 발휘했는지는 모르겠으나 이번엔 그것이 ‘결정적인 상황’에서 더 깊고 더 길고 더 노골적으로 사용됨으로써 켜켜이 쌓아온 감정을 휘발 시켜 버리는 면이 있다. 강동원의 미모가 극의 진행에 별다른 ‘작용 혹은 반작용’을 일으키지 않는 첫 영화라는 점에서 희귀하다는 인상을 남기는 가운데, 독립영화에서 독창적인 매력을 발산해 온 구교환의 개성이 상업 영화 안에서도 독야청청 살아있어 반갑다.\n",
      "질주하는 소녀와 미쳐버린 남자의 잔상\n",
      "액션도 청승도 한껏\n",
      "웅장하고 야심만만하지만, 사소하고 영화적인 순간은 없다\n",
      "폭발하는 규모는 괜찮지만, 캐릭터와 캐스팅이 약하다\n",
      "현실의 코로나와 난민 이슈로 설득력 입는 K-아포칼립스\n"
     ]
    }
   ],
   "source": [
    "time.sleep(3)\n",
    "html = driver.page_source\n",
    "soup = BeautifulSoup(html, 'html.parser')\n",
    "movielinks = soup.findAll(\"span\", {\"class\": \"desc _text\"})\n",
    "review=[]\n",
    "#분류표 생성\n",
    "f= open(f_name, 'a',encoding='UTF-8')\n",
    "f.write('영화 평\\n')\n",
    "\n",
    "for i in movielinks:\n",
    "    a= i.get_text() \n",
    "    review.append(a)\n",
    "    f.write(str(a)+'\\n')\n",
    "    print(a)\n"
   ]
  },
  {
   "cell_type": "markdown",
   "metadata": {},
   "source": [
    "Step 5 pandas를 활용하여 데이터 프레임 생성 "
   ]
  },
  {
   "cell_type": "code",
   "execution_count": 7,
   "metadata": {},
   "outputs": [
    {
     "data": {
      "text/html": [
       "<div>\n",
       "<style scoped>\n",
       "    .dataframe tbody tr th:only-of-type {\n",
       "        vertical-align: middle;\n",
       "    }\n",
       "\n",
       "    .dataframe tbody tr th {\n",
       "        vertical-align: top;\n",
       "    }\n",
       "\n",
       "    .dataframe thead th {\n",
       "        text-align: right;\n",
       "    }\n",
       "</style>\n",
       "<table border=\"1\" class=\"dataframe\">\n",
       "  <thead>\n",
       "    <tr style=\"text-align: right;\">\n",
       "      <th></th>\n",
       "      <th>document</th>\n",
       "    </tr>\n",
       "  </thead>\n",
       "  <tbody>\n",
       "    <tr>\n",
       "      <th>0</th>\n",
       "      <td>2탄기대 액션다소뷰족</td>\n",
       "    </tr>\n",
       "    <tr>\n",
       "      <th>1</th>\n",
       "      <td>부산행 않보고 봤습니다. 별로 입니다. 진짜...액션도 평범합니다.</td>\n",
       "    </tr>\n",
       "    <tr>\n",
       "      <th>2</th>\n",
       "      <td>한국에서 바이러스가 퍼졌다는 것은우리나라에서 만든 바이러스라는 것.하루만에 한국이 ...</td>\n",
       "    </tr>\n",
       "    <tr>\n",
       "      <th>3</th>\n",
       "      <td>재밋어요재밋어요재밋어요</td>\n",
       "    </tr>\n",
       "    <tr>\n",
       "      <th>4</th>\n",
       "      <td>별로 추천하지 않아요.. ㅠㅠ</td>\n",
       "    </tr>\n",
       "    <tr>\n",
       "      <th>...</th>\n",
       "      <td>...</td>\n",
       "    </tr>\n",
       "    <tr>\n",
       "      <th>64</th>\n",
       "      <td>질주하는 소녀와 미쳐버린 남자의 잔상</td>\n",
       "    </tr>\n",
       "    <tr>\n",
       "      <th>65</th>\n",
       "      <td>액션도 청승도 한껏</td>\n",
       "    </tr>\n",
       "    <tr>\n",
       "      <th>66</th>\n",
       "      <td>웅장하고 야심만만하지만, 사소하고 영화적인 순간은 없다</td>\n",
       "    </tr>\n",
       "    <tr>\n",
       "      <th>67</th>\n",
       "      <td>폭발하는 규모는 괜찮지만, 캐릭터와 캐스팅이 약하다</td>\n",
       "    </tr>\n",
       "    <tr>\n",
       "      <th>68</th>\n",
       "      <td>현실의 코로나와 난민 이슈로 설득력 입는 K-아포칼립스</td>\n",
       "    </tr>\n",
       "  </tbody>\n",
       "</table>\n",
       "<p>69 rows × 1 columns</p>\n",
       "</div>"
      ],
      "text/plain": [
       "                                             document\n",
       "0                                        2탄기대 액션다소뷰족 \n",
       "1              부산행 않보고 봤습니다. 별로 입니다. 진짜...액션도 평범합니다. \n",
       "2   한국에서 바이러스가 퍼졌다는 것은우리나라에서 만든 바이러스라는 것.하루만에 한국이 ...\n",
       "3                                       재밋어요재밋어요재밋어요 \n",
       "4                                   별로 추천하지 않아요.. ㅠㅠ \n",
       "..                                                ...\n",
       "64                               질주하는 소녀와 미쳐버린 남자의 잔상\n",
       "65                                         액션도 청승도 한껏\n",
       "66                     웅장하고 야심만만하지만, 사소하고 영화적인 순간은 없다\n",
       "67                       폭발하는 규모는 괜찮지만, 캐릭터와 캐스팅이 약하다\n",
       "68                     현실의 코로나와 난민 이슈로 설득력 입는 K-아포칼립스\n",
       "\n",
       "[69 rows x 1 columns]"
      ]
     },
     "execution_count": 7,
     "metadata": {},
     "output_type": "execute_result"
    }
   ],
   "source": [
    "navermovie_review=pd.DataFrame()\n",
    "navermovie_review[\"영화평\"]=review\n",
    "a= pd.read_csv('movie1.txt', delimiter = '\\t') #공백 제거\n",
    "a"
   ]
  },
  {
   "cell_type": "code",
   "execution_count": 8,
   "metadata": {},
   "outputs": [],
   "source": [
    "#csv 형태로 저장하기\n",
    "navermovie_review.to_csv(fc_name,encoding=\"utf-8-sig\",index=False)"
   ]
  },
  {
   "cell_type": "code",
   "execution_count": 9,
   "metadata": {},
   "outputs": [],
   "source": [
    "#엑셀 형태로 저장하기\n",
    "navermovie_review.to_excel(fx_name,index=False)"
   ]
  },
  {
   "cell_type": "code",
   "execution_count": 10,
   "metadata": {},
   "outputs": [
    {
     "name": "stdout",
     "output_type": "stream",
     "text": [
      "\n",
      "\n",
      "======================================================================\n",
      "파일 저장 완료: txt 파일명 : a1.txt \n",
      "파일 저장 완료: csv 파일명 : a1.csv \n",
      "파일 저장 완료: xlsx 파일명 : a1.xlsx \n",
      "======================================================================\n"
     ]
    }
   ],
   "source": [
    "print(\"\\n\") \n",
    "print(\"=\" *70)\n",
    "print(\"파일 저장 완료: txt 파일명 : %s \" %f_name)\n",
    "print(\"파일 저장 완료: csv 파일명 : %s \" %fc_name)\n",
    "print(\"파일 저장 완료: xlsx 파일명 : %s \" %fx_name)\n",
    "print(\"=\" *70)"
   ]
  }
 ],
 "metadata": {
  "kernelspec": {
   "display_name": "Python 3",
   "language": "python",
   "name": "python3"
  },
  "language_info": {
   "codemirror_mode": {
    "name": "ipython",
    "version": 3
   },
   "file_extension": ".py",
   "mimetype": "text/x-python",
   "name": "python",
   "nbconvert_exporter": "python",
   "pygments_lexer": "ipython3",
   "version": "3.8.3"
  }
 },
 "nbformat": 4,
 "nbformat_minor": 4
}
