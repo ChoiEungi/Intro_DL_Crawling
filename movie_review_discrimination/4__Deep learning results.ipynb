{
 "cells": [
  {
   "cell_type": "markdown",
   "metadata": {},
   "source": [
    "앞서 언급했듯이, Test set과 Train Set은 직접 크롤링하여 데이터를 얻기 어려워 만들어진 자료를 기반으로 딥러닝을 구현할 예정이다. 이 데이터는 네이버 영화 리뷰 데이터를 모아 긍정적 리뷰이면 1, 부정적 리뷰면 0으로 판별한 데이터 셋이다. "
   ]
  },
  {
   "cell_type": "markdown",
   "metadata": {},
   "source": [
    "# 자연어 처리를 통해 딥러닝 환경 구현"
   ]
  },
  {
   "cell_type": "markdown",
   "metadata": {},
   "source": [
    "Step 1 필요한 모듈로 부터 필요한 함수 임포트하기"
   ]
  },
  {
   "cell_type": "code",
   "execution_count": 1,
   "metadata": {
    "scrolled": true
   },
   "outputs": [],
   "source": [
    "import pandas as pd\n",
    "import numpy as np\n",
    "import numpy\n",
    "import json\n",
    "import os\n",
    "from konlpy.tag import Okt #강의 시간에 배운 konlpy를 이용해 불용어를 처리한다.\n",
    "\n",
    "\n",
    "from tensorflow.keras.preprocessing.text import Tokenizer\n",
    "from tensorflow.keras.preprocessing.sequence import pad_sequences\n",
    "from tensorflow.keras.layers import Embedding, Dense, LSTM\n",
    "from tensorflow.keras.models import Sequential\n",
    "from tensorflow.keras.models import load_model\n",
    "from tensorflow.keras.callbacks import EarlyStopping, ModelCheckpoint"
   ]
  },
  {
   "cell_type": "markdown",
   "metadata": {},
   "source": [
    "STEP2 데이터를 정리하기 "
   ]
  },
  {
   "cell_type": "code",
   "execution_count": 2,
   "metadata": {},
   "outputs": [],
   "source": [
    "train_data = pd.read_table('ratings_train.txt')\n",
    "test_data = pd.read_table('ratings_test.txt')"
   ]
  },
  {
   "cell_type": "markdown",
   "metadata": {},
   "source": [
    "딥러닝에 방해되는 데이터(공백, Null)등을 제거하는 작업 "
   ]
  },
  {
   "cell_type": "code",
   "execution_count": 3,
   "metadata": {},
   "outputs": [],
   "source": [
    "train_data.drop_duplicates(subset = ['document'], inplace=True) # document 열에서 중복인 내용이 있다면 중복 제거\n",
    "train_data['document'].replace('', np.nan, inplace=True) #빈 값을 NULL로 변경 \n",
    "train_data = train_data.dropna(how = 'any') #Null 값 제거\n",
    "train_data['document'] = train_data['document'].str.replace(\"[^ㄱ-ㅎㅏ-ㅣ가-힣 ]\",\"\") #한글과 공백을 제외한 모든 기호(특수 문자, 영어)를 제거하는 작업"
   ]
  },
  {
   "cell_type": "code",
   "execution_count": 4,
   "metadata": {},
   "outputs": [],
   "source": [
    "test_data.drop_duplicates(subset = ['document'], inplace=True) # document 열에서 중복인 내용이 있다면 중복 제거\n",
    "test_data['document'].replace('', np.nan, inplace=True) # 공백은 Null 값으로 변경\n",
    "test_data = test_data.dropna(how='any') # Null 값 제거\n",
    "test_data['document'] = test_data['document'].str.replace(\"[^ㄱ-ㅎㅏ-ㅣ가-힣 ]\",\"\") "
   ]
  },
  {
   "cell_type": "markdown",
   "metadata": {},
   "source": [
    "STEP 3 토큰화"
   ]
  },
  {
   "cell_type": "code",
   "execution_count": 5,
   "metadata": {},
   "outputs": [],
   "source": [
    "okt = Okt() \n",
    "stopwords = ['의','가','이','은','들','는','좀','잘','걍','과','도','를','으로','자','에','와','한','하다']\n",
    "\n",
    "X_train = []\n",
    "for sentence in train_data['document']:\n",
    "    temp_X = []\n",
    "    temp_X = okt.morphs(sentence, stem=True) # 토큰화\n",
    "    temp_X = [word for word in temp_X if not word in stopwords] # 불용어 제거\n",
    "    X_train.append(temp_X)"
   ]
  },
  {
   "cell_type": "code",
   "execution_count": 6,
   "metadata": {},
   "outputs": [],
   "source": [
    "X_test = []\n",
    "for sentence in test_data['document']:\n",
    "    temp_X = []\n",
    "    temp_X = okt.morphs(sentence, stem=True) # 토큰화\n",
    "    temp_X = [word for word in temp_X if not word in stopwords] # 불용어 제거\n",
    "    X_test.append(temp_X)"
   ]
  },
  {
   "cell_type": "markdown",
   "metadata": {},
   "source": [
    "STEP 4 정수 인코딩"
   ]
  },
  {
   "cell_type": "code",
   "execution_count": 7,
   "metadata": {},
   "outputs": [],
   "source": [
    "tokenizer = Tokenizer()\n",
    "tokenizer.fit_on_texts(X_train)"
   ]
  },
  {
   "cell_type": "markdown",
   "metadata": {},
   "source": [
    "귀납적으로 분석하는 것이기에, 적은 빈도수가 나오는 단어들은 제거하는 작업을 거쳐 정확도를 높일 예정이다."
   ]
  },
  {
   "cell_type": "code",
   "execution_count": 8,
   "metadata": {},
   "outputs": [],
   "source": [
    "threshold = 3\n",
    "total_cnt = len(tokenizer.word_index) # 단어의 수\n",
    "rare_cnt = 0 # 등장 빈도수가 threshold보다 작은 단어의 개수를 카운트\n",
    "total_freq = 0 # 훈련 데이터의 전체 단어 빈도수 총 합\n",
    "rare_freq = 0 # 등장 빈도수가 threshold보다 작은 단어의 등장 빈도수의 총 합\n",
    "\n",
    "# 단어와 빈도수의 쌍(pair)을 key와 value로 받는다.\n",
    "for key, value in tokenizer.word_counts.items():\n",
    "    total_freq = total_freq + value\n",
    "\n",
    "    # 단어의 등장 빈도수가 threshold보다 작으면\n",
    "    if(value < threshold):\n",
    "        rare_cnt = rare_cnt + 1\n",
    "        rare_freq = rare_freq + value\n",
    "        \n",
    "# 전체 단어 개수 중 빈도수 2이하인 단어 개수는 제거.\n",
    "vocab_size = total_cnt - rare_cnt + 2\n"
   ]
  },
  {
   "cell_type": "code",
   "execution_count": 9,
   "metadata": {},
   "outputs": [],
   "source": [
    "tokenizer = Tokenizer(vocab_size, oov_token = 'OOV') \n",
    "tokenizer.fit_on_texts(X_train)\n",
    "X_train = tokenizer.texts_to_sequences(X_train)\n",
    "X_test = tokenizer.texts_to_sequences(X_test)"
   ]
  },
  {
   "cell_type": "code",
   "execution_count": 10,
   "metadata": {},
   "outputs": [],
   "source": [
    "y_train = np.array(train_data['label'])\n",
    "y_test = np.array(test_data['label'])"
   ]
  },
  {
   "cell_type": "markdown",
   "metadata": {},
   "source": [
    "빈도 수가 적은 단어들을 제거했으므로 그 부분은 공백이 됬음을 의미함. 이 공백을 다시 제거해 딥러닝을 진행할 예정"
   ]
  },
  {
   "cell_type": "code",
   "execution_count": 11,
   "metadata": {},
   "outputs": [],
   "source": [
    "drop_train = [index for index, sentence in enumerate(X_train) if len(sentence) < 1]\n",
    "#길이가 0인 것들의 인덱스를 받아온다.\n",
    "\n",
    "max_len=30\n",
    "X_train = np.delete(X_train, drop_train, axis=0)\n",
    "y_train = np.delete(y_train, drop_train, axis=0)"
   ]
  },
  {
   "cell_type": "code",
   "execution_count": 12,
   "metadata": {},
   "outputs": [],
   "source": [
    "def below_threshold_len(max_len, nested_list):\n",
    "  cnt = 0\n",
    "  for s in nested_list:\n",
    "    if(len(s) <= max_len):\n",
    "        cnt = cnt + 1\n",
    "        \n",
    "below_threshold_len(max_len, X_train)"
   ]
  },
  {
   "cell_type": "code",
   "execution_count": 13,
   "metadata": {},
   "outputs": [],
   "source": [
    "X_train = pad_sequences(X_train, maxlen = 30)\n",
    "X_test = pad_sequences(X_test, maxlen = 30)"
   ]
  },
  {
   "cell_type": "markdown",
   "metadata": {},
   "source": [
    "# STEP 5  모델 불러오기"
   ]
  },
  {
   "cell_type": "code",
   "execution_count": 14,
   "metadata": {},
   "outputs": [
    {
     "name": "stdout",
     "output_type": "stream",
     "text": [
      "Model: \"sequential\"\n",
      "_________________________________________________________________\n",
      "Layer (type)                 Output Shape              Param #   \n",
      "=================================================================\n",
      "embedding (Embedding)        (None, None, 100)         1941700   \n",
      "_________________________________________________________________\n",
      "lstm (LSTM)                  (None, 128)               117248    \n",
      "_________________________________________________________________\n",
      "dense (Dense)                (None, 1)                 129       \n",
      "=================================================================\n",
      "Total params: 2,059,077\n",
      "Trainable params: 2,059,077\n",
      "Non-trainable params: 0\n",
      "_________________________________________________________________\n"
     ]
    }
   ],
   "source": [
    "model = load_model('model1.h5')\n",
    "model.summary() # 모델 간단히 출력"
   ]
  },
  {
   "cell_type": "code",
   "execution_count": 15,
   "metadata": {},
   "outputs": [],
   "source": [
    "es = EarlyStopping(monitor='val_loss', mode='min', verbose=1, patience=4)\n",
    "mc = ModelCheckpoint('best_model_1.h5', monitor='val_acc', mode='max', verbose=1, save_best_only=True)"
   ]
  },
  {
   "cell_type": "markdown",
   "metadata": {},
   "source": [
    "STEP 6 모델 실행하기"
   ]
  },
  {
   "cell_type": "code",
   "execution_count": 16,
   "metadata": {},
   "outputs": [
    {
     "name": "stdout",
     "output_type": "stream",
     "text": [
      "Epoch 1/15\n",
      "1938/1939 [============================>.] - ETA: 0s - loss: 0.2298 - acc: 0.9078\n",
      "Epoch 00001: val_acc improved from -inf to 0.85510, saving model to best_model_1.h5\n",
      "1939/1939 [==============================] - 119s 62ms/step - loss: 0.2298 - acc: 0.9078 - val_loss: 0.3458 - val_acc: 0.8551\n",
      "Epoch 2/15\n",
      "1938/1939 [============================>.] - ETA: 0s - loss: 0.2137 - acc: 0.9152\n",
      "Epoch 00002: val_acc did not improve from 0.85510\n",
      "1939/1939 [==============================] - 102s 53ms/step - loss: 0.2137 - acc: 0.9152 - val_loss: 0.3667 - val_acc: 0.8522\n",
      "Epoch 3/15\n",
      "1939/1939 [==============================] - ETA: 0s - loss: 0.1984 - acc: 0.9222\n",
      "Epoch 00003: val_acc did not improve from 0.85510\n",
      "1939/1939 [==============================] - 105s 54ms/step - loss: 0.1984 - acc: 0.9222 - val_loss: 0.3644 - val_acc: 0.8486\n",
      "Epoch 4/15\n",
      "1938/1939 [============================>.] - ETA: 0s - loss: 0.1817 - acc: 0.9295\n",
      "Epoch 00004: val_acc did not improve from 0.85510\n",
      "1939/1939 [==============================] - 117s 60ms/step - loss: 0.1817 - acc: 0.9295 - val_loss: 0.3965 - val_acc: 0.8441\n",
      "Epoch 5/15\n",
      "1938/1939 [============================>.] - ETA: 0s - loss: 0.1651 - acc: 0.9368- ETA\n",
      "Epoch 00005: val_acc did not improve from 0.85510\n",
      "1939/1939 [==============================] - 122s 63ms/step - loss: 0.1651 - acc: 0.9368 - val_loss: 0.4216 - val_acc: 0.8425\n",
      "Epoch 00005: early stopping\n"
     ]
    }
   ],
   "source": [
    "history = model.fit(X_train, y_train, epochs=15, callbacks=[es, mc], batch_size=60, validation_split=0.2)"
   ]
  },
  {
   "cell_type": "code",
   "execution_count": 17,
   "metadata": {},
   "outputs": [
    {
     "name": "stdout",
     "output_type": "stream",
     "text": [
      "1537/1537 [==============================] - 15s 10ms/step - loss: 0.3535 - acc: 0.8501\n",
      "\n",
      " 테스트 정확도: 0.8501\n"
     ]
    }
   ],
   "source": [
    "loaded_model = load_model('best_model_1.h5')\n",
    "print(\"\\n 테스트 정확도: %.4f\" % (loaded_model.evaluate(X_test, y_test)[1]))\n",
    "a,b = model.evaluate(x=X_test, y=y_test, verbose=0) # 63개의 테스트 데이터셋 결과 "
   ]
  },
  {
   "cell_type": "code",
   "execution_count": 18,
   "metadata": {},
   "outputs": [],
   "source": [
    "# 테스트 데이터셋의 loss\n",
    "vloss1=history.history['val_loss']\n",
    "\n",
    "# 학습 데이터셋의 accuracy \n",
    "acc1=history.history['acc']"
   ]
  },
  {
   "cell_type": "code",
   "execution_count": 19,
   "metadata": {},
   "outputs": [
    {
     "data": {
      "image/png": "[encoded data removed]",
      "text/plain": [
       "<Figure size 576x432 with 1 Axes>"
      ]
     },
     "metadata": {
      "needs_background": "light"
     },
     "output_type": "display_data"
    }
   ],
   "source": [
    "import matplotlib.pyplot as plt\n",
    "import matplotlib.font_manager   # 한글 사용을 위해서 임포트 \n",
    "\n",
    "x_len = numpy.arange(len(acc1))\n",
    "plt.figure(figsize=(8,6))   #그래프의 크기 셋팅\n",
    "font_path = \"C:\\\\Windows\\\\Fonts\\\\HMKMMAG.TTF\"\n",
    "font_name = matplotlib.font_manager.FontProperties(fname=font_path).get_name()\n",
    "plt.rc('font', family=font_name, size=14) \n",
    "\n",
    "# 학습 데이터셋의 accuracy는 파란색으로, 테스트 데이터셋의 loss는 빨간색으로 표시\n",
    "plt.title('테스트셋 오차와 학습셋의 정확도 비교', fontsize=14)\n",
    "plt.plot(x_len, vloss1, \"o\", c=\"red\",  markersize=3,  label='테스트 데이터셋 loss')\n",
    "plt.plot(x_len, acc1,   \"o\", c=\"blue\", markersize=3,  label='학습 데이터셋 accuracy')\n",
    "plt.legend() # 범례 출력\n",
    "\n",
    "plt.show()"
   ]
  },
  {
   "cell_type": "markdown",
   "metadata": {},
   "source": [
    "STEP 7 실제 리뷰에 모델 적용하기 (리뷰 예측해보기)"
   ]
  },
  {
   "cell_type": "code",
   "execution_count": 20,
   "metadata": {},
   "outputs": [],
   "source": [
    "def review_predict(new_sentence):\n",
    "    new_sentence = okt.morphs(new_sentence, stem=True) # 토큰화\n",
    "    new_sentence = [word for word in new_sentence if not word in stopwords] # 불용어 제거\n",
    "    encoded = tokenizer.texts_to_sequences([new_sentence]) # 정수 인코딩\n",
    "    pad_new = pad_sequences(encoded, maxlen = max_len) # 패딩\n",
    "    t = float(model.predict(pad_new)) # 예측\n",
    "    if (t>0.5):\n",
    "        print(\"{:.2f}% 확률로 긍정 리뷰입니다 \\n\".format(t*100))\n",
    "    else:\n",
    "        print(\"{:.2f}% 확률로 부정 리뷰입니다 \\n\".format((1-t)*100))\n",
    "        \n",
    "def review(new_sentence):\n",
    "    new_sentence = okt.morphs(new_sentence, stem=True) # 토큰화\n",
    "    new_sentence = [word for word in new_sentence if not word in stopwords] # 불용어 제거\n",
    "    encoded = tokenizer.texts_to_sequences([new_sentence]) # 정수 인코딩\n",
    "    pad_new = pad_sequences(encoded, maxlen = max_len) # 패딩\n",
    "    t = float(model.predict(pad_new)) # 예측\n",
    "    if (t>0.5):\n",
    "        print(\"긍정 리뷰입니다 \\n\")\n",
    "    else:\n",
    "        print(\"부정 리뷰입니다 \\n\")\n",
    "\n",
    "\n"
   ]
  },
  {
   "cell_type": "code",
   "execution_count": 21,
   "metadata": {},
   "outputs": [
    {
     "name": "stdout",
     "output_type": "stream",
     "text": [
      "97.09% 확률로 긍정 리뷰입니다 \n",
      "\n"
     ]
    }
   ],
   "source": [
    "review_predict(\"영화 진짜 재밌네 ㅋㅋ\")"
   ]
  },
  {
   "cell_type": "code",
   "execution_count": 22,
   "metadata": {},
   "outputs": [
    {
     "name": "stdout",
     "output_type": "stream",
     "text": [
      "99.90% 확률로 부정 리뷰입니다 \n",
      "\n"
     ]
    }
   ],
   "source": [
    "review_predict(\"진짜 개노잼\")"
   ]
  },
  {
   "cell_type": "markdown",
   "metadata": {},
   "source": [
    "# 검증 데이터셋 적용해보기 "
   ]
  },
  {
   "cell_type": "code",
   "execution_count": 23,
   "metadata": {},
   "outputs": [
    {
     "name": "stdout",
     "output_type": "stream",
     "text": [
      "부정 리뷰입니다 \n",
      "\n",
      "긍정 리뷰입니다 \n",
      "\n",
      "긍정 리뷰입니다 \n",
      "\n",
      "부정 리뷰입니다 \n",
      "\n",
      "긍정 리뷰입니다 \n",
      "\n",
      "부정 리뷰입니다 \n",
      "\n",
      "부정 리뷰입니다 \n",
      "\n",
      "긍정 리뷰입니다 \n",
      "\n",
      "긍정 리뷰입니다 \n",
      "\n",
      "긍정 리뷰입니다 \n",
      "\n",
      "긍정 리뷰입니다 \n",
      "\n",
      "긍정 리뷰입니다 \n",
      "\n",
      "긍정 리뷰입니다 \n",
      "\n",
      "긍정 리뷰입니다 \n",
      "\n",
      "부정 리뷰입니다 \n",
      "\n",
      "긍정 리뷰입니다 \n",
      "\n",
      "부정 리뷰입니다 \n",
      "\n",
      "긍정 리뷰입니다 \n",
      "\n",
      "부정 리뷰입니다 \n",
      "\n",
      "부정 리뷰입니다 \n",
      "\n",
      "긍정 리뷰입니다 \n",
      "\n",
      "이 영화는 부정적 평이 더 많습니다.\n"
     ]
    }
   ],
   "source": [
    "import csv\n",
    "\n",
    "num1=0\n",
    "num2=0 #영화의 긍정도를 판별하기 위한 변수\n",
    "\n",
    "#경로 설정을 재설정하셔야 코드가 돌아갑니다!\n",
    "with open('C:/ai/기말과제/a1.csv', newline='',encoding= 'UTF8') as csvfile:\n",
    "       data = list(csv.reader(csvfile))\n",
    "\n",
    "        \n",
    "for i in data :\n",
    "    if review(i[0])==\"긍정 리뷰입니다\":\n",
    "        num1+=1\n",
    "    else:\n",
    "        num2+=1\n",
    "\n",
    "if num1>num2:\n",
    "    print(\"이 영화는 긍정적 평이 더 많습니다.\")\n",
    "elif num1==num2:\n",
    "    print(\"이 영화는 긍정적인 평과 부정적인 평이 비슷합니다.\")\n",
    "else:\n",
    "    print(\"이 영화는 부정적 평이 더 많습니다.\")\n"
   ]
  },
  {
   "cell_type": "markdown",
   "metadata": {},
   "source": [
    "# 실제로 영화 반도가 재미 없다는 평이 많은데, 영화 반도를 넣어봤을 때 딥러닝을 통해 부정적 평가가 더 많다는 것을 알 수 있었다."
   ]
  },
  {
   "cell_type": "code",
   "execution_count": null,
   "metadata": {},
   "outputs": [],
   "source": []
  }
 ],
 "metadata": {
  "kernelspec": {
   "display_name": "Python 3",
   "language": "python",
   "name": "python3"
  },
  "language_info": {
   "codemirror_mode": {
    "name": "ipython",
    "version": 3
   },
   "file_extension": ".py",
   "mimetype": "text/x-python",
   "name": "python",
   "nbconvert_exporter": "python",
   "pygments_lexer": "ipython3",
   "version": "3.8.3"
  }
 },
 "nbformat": 4,
 "nbformat_minor": 4
}
